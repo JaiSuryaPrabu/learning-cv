{
 "cells": [
  {
   "cell_type": "markdown",
   "id": "01b6f337-413b-457b-8404-76d0b306f616",
   "metadata": {},
   "source": [
    "# Face Detection"
   ]
  },
  {
   "cell_type": "code",
   "execution_count": null,
   "id": "724193f9-1d06-4abc-8bb0-0b2a37ccbc78",
   "metadata": {},
   "outputs": [],
   "source": [
    "source = cv2.VideoCapture(0) # 0 means webcam\n",
    "window_name = \"Web cam\"\n",
    "cv2.namedWindow(window_name,cv2.WINDOW_NORMAL)\n",
    "\n",
    "while cv2.waitKey(1) != 27: # escape key\n",
    "    has_frame,frame = source.read()\n",
    "    if not has_frame:\n",
    "        break\n",
    "    cv2.imshow(window_name,frame)\n",
    "\n",
    "source.release()\n",
    "cv2.destroyWindow(window_name)"
   ]
  }
 ],
 "metadata": {
  "kernelspec": {
   "display_name": "Python 3 (ipykernel)",
   "language": "python",
   "name": "python3"
  },
  "language_info": {
   "codemirror_mode": {
    "name": "ipython",
    "version": 3
   },
   "file_extension": ".py",
   "mimetype": "text/x-python",
   "name": "python",
   "nbconvert_exporter": "python",
   "pygments_lexer": "ipython3",
   "version": "3.12.8"
  }
 },
 "nbformat": 4,
 "nbformat_minor": 5
}
